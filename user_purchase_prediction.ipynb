{
 "cells": [
  {
   "cell_type": "code",
   "execution_count": 1,
   "metadata": {},
   "outputs": [
    {
     "data": {
      "text/html": [
       "<div>\n",
       "<style scoped>\n",
       "    .dataframe tbody tr th:only-of-type {\n",
       "        vertical-align: middle;\n",
       "    }\n",
       "\n",
       "    .dataframe tbody tr th {\n",
       "        vertical-align: top;\n",
       "    }\n",
       "\n",
       "    .dataframe thead th {\n",
       "        text-align: right;\n",
       "    }\n",
       "</style>\n",
       "<table border=\"1\" class=\"dataframe\">\n",
       "  <thead>\n",
       "    <tr style=\"text-align: right;\">\n",
       "      <th></th>\n",
       "      <th>user_id</th>\n",
       "      <th>platform</th>\n",
       "      <th>network</th>\n",
       "      <th>country</th>\n",
       "      <th>age</th>\n",
       "      <th>time_spend</th>\n",
       "      <th>coin_spend</th>\n",
       "      <th>coin_earn</th>\n",
       "      <th>level_success</th>\n",
       "      <th>level_fail</th>\n",
       "      <th>level_start</th>\n",
       "      <th>booster_spend</th>\n",
       "      <th>booster_earn</th>\n",
       "      <th>coin_amount</th>\n",
       "      <th>event_participate</th>\n",
       "      <th>shop_open</th>\n",
       "      <th>d30_revenue</th>\n",
       "    </tr>\n",
       "  </thead>\n",
       "  <tbody>\n",
       "    <tr>\n",
       "      <th>0</th>\n",
       "      <td>dlxsqb7178890300b2</td>\n",
       "      <td>ios</td>\n",
       "      <td>Oyster</td>\n",
       "      <td>Zephyra</td>\n",
       "      <td>53</td>\n",
       "      <td>71</td>\n",
       "      <td>0</td>\n",
       "      <td>0</td>\n",
       "      <td>0</td>\n",
       "      <td>0</td>\n",
       "      <td>0</td>\n",
       "      <td>0</td>\n",
       "      <td>0</td>\n",
       "      <td>2000</td>\n",
       "      <td>0</td>\n",
       "      <td>0.0</td>\n",
       "      <td>0.0</td>\n",
       "    </tr>\n",
       "    <tr>\n",
       "      <th>1</th>\n",
       "      <td>dlxsqb7178884891b2</td>\n",
       "      <td>ios</td>\n",
       "      <td>Piggy</td>\n",
       "      <td>Thalassia</td>\n",
       "      <td>33</td>\n",
       "      <td>88</td>\n",
       "      <td>0</td>\n",
       "      <td>0</td>\n",
       "      <td>0</td>\n",
       "      <td>0</td>\n",
       "      <td>0</td>\n",
       "      <td>0</td>\n",
       "      <td>0</td>\n",
       "      <td>2000</td>\n",
       "      <td>0</td>\n",
       "      <td>0.0</td>\n",
       "      <td>0.0</td>\n",
       "    </tr>\n",
       "    <tr>\n",
       "      <th>2</th>\n",
       "      <td>dlxsqb7179152264b2</td>\n",
       "      <td>ios</td>\n",
       "      <td>Piggy</td>\n",
       "      <td>Sunridge</td>\n",
       "      <td>64</td>\n",
       "      <td>2</td>\n",
       "      <td>0</td>\n",
       "      <td>0</td>\n",
       "      <td>0</td>\n",
       "      <td>0</td>\n",
       "      <td>0</td>\n",
       "      <td>0</td>\n",
       "      <td>0</td>\n",
       "      <td>2000</td>\n",
       "      <td>0</td>\n",
       "      <td>0.0</td>\n",
       "      <td>0.0</td>\n",
       "    </tr>\n",
       "    <tr>\n",
       "      <th>3</th>\n",
       "      <td>dlxsqb7179044724b2</td>\n",
       "      <td>ios</td>\n",
       "      <td>Piggy</td>\n",
       "      <td>Zephyra</td>\n",
       "      <td>51</td>\n",
       "      <td>11</td>\n",
       "      <td>0</td>\n",
       "      <td>0</td>\n",
       "      <td>0</td>\n",
       "      <td>0</td>\n",
       "      <td>0</td>\n",
       "      <td>0</td>\n",
       "      <td>0</td>\n",
       "      <td>2000</td>\n",
       "      <td>0</td>\n",
       "      <td>0.0</td>\n",
       "      <td>0.0</td>\n",
       "    </tr>\n",
       "    <tr>\n",
       "      <th>4</th>\n",
       "      <td>dlxsqb7178985060b2</td>\n",
       "      <td>ios</td>\n",
       "      <td>Piggy</td>\n",
       "      <td>Zephyra</td>\n",
       "      <td>70</td>\n",
       "      <td>38</td>\n",
       "      <td>0</td>\n",
       "      <td>0</td>\n",
       "      <td>0</td>\n",
       "      <td>0</td>\n",
       "      <td>0</td>\n",
       "      <td>0</td>\n",
       "      <td>0</td>\n",
       "      <td>2000</td>\n",
       "      <td>0</td>\n",
       "      <td>0.0</td>\n",
       "      <td>0.0</td>\n",
       "    </tr>\n",
       "  </tbody>\n",
       "</table>\n",
       "</div>"
      ],
      "text/plain": [
       "              user_id platform network    country  age  time_spend  \\\n",
       "0  dlxsqb7178890300b2      ios  Oyster    Zephyra   53          71   \n",
       "1  dlxsqb7178884891b2      ios   Piggy  Thalassia   33          88   \n",
       "2  dlxsqb7179152264b2      ios   Piggy   Sunridge   64           2   \n",
       "3  dlxsqb7179044724b2      ios   Piggy    Zephyra   51          11   \n",
       "4  dlxsqb7178985060b2      ios   Piggy    Zephyra   70          38   \n",
       "\n",
       "   coin_spend  coin_earn  level_success  level_fail  level_start  \\\n",
       "0           0          0              0           0            0   \n",
       "1           0          0              0           0            0   \n",
       "2           0          0              0           0            0   \n",
       "3           0          0              0           0            0   \n",
       "4           0          0              0           0            0   \n",
       "\n",
       "   booster_spend  booster_earn  coin_amount  event_participate  shop_open  \\\n",
       "0              0             0         2000                  0        0.0   \n",
       "1              0             0         2000                  0        0.0   \n",
       "2              0             0         2000                  0        0.0   \n",
       "3              0             0         2000                  0        0.0   \n",
       "4              0             0         2000                  0        0.0   \n",
       "\n",
       "   d30_revenue  \n",
       "0          0.0  \n",
       "1          0.0  \n",
       "2          0.0  \n",
       "3          0.0  \n",
       "4          0.0  "
      ]
     },
     "execution_count": 1,
     "metadata": {},
     "output_type": "execute_result"
    }
   ],
   "source": [
    "# Importing the data and libraries\n",
    "import pandas as pd\n",
    "import matplotlib.pyplot as plt\n",
    "\n",
    "predictive_modelling_df = pd.read_csv(\"df.csv\")\n",
    "\n",
    "predictive_modelling_df.head()"
   ]
  },
  {
   "cell_type": "code",
   "execution_count": 2,
   "metadata": {},
   "outputs": [
    {
     "name": "stdout",
     "output_type": "stream",
     "text": [
      "<class 'pandas.core.frame.DataFrame'>\n",
      "RangeIndex: 342519 entries, 0 to 342518\n",
      "Data columns (total 17 columns):\n",
      " #   Column             Non-Null Count   Dtype  \n",
      "---  ------             --------------   -----  \n",
      " 0   user_id            342519 non-null  object \n",
      " 1   platform           342519 non-null  object \n",
      " 2   network            342519 non-null  object \n",
      " 3   country            342519 non-null  object \n",
      " 4   age                342519 non-null  int64  \n",
      " 5   time_spend         342519 non-null  int64  \n",
      " 6   coin_spend         342519 non-null  int64  \n",
      " 7   coin_earn          342519 non-null  int64  \n",
      " 8   level_success      342519 non-null  int64  \n",
      " 9   level_fail         342519 non-null  int64  \n",
      " 10  level_start        342519 non-null  int64  \n",
      " 11  booster_spend      342519 non-null  int64  \n",
      " 12  booster_earn       342519 non-null  int64  \n",
      " 13  coin_amount        342519 non-null  int64  \n",
      " 14  event_participate  342519 non-null  int64  \n",
      " 15  shop_open          342519 non-null  float64\n",
      " 16  d30_revenue        342519 non-null  float64\n",
      "dtypes: float64(2), int64(11), object(4)\n",
      "memory usage: 44.4+ MB\n"
     ]
    }
   ],
   "source": [
    "# Examine the df\n",
    "predictive_modelling_df.info()"
   ]
  },
  {
   "cell_type": "markdown",
   "metadata": {},
   "source": [
    "### Data Pre-Processing"
   ]
  },
  {
   "cell_type": "code",
   "execution_count": 3,
   "metadata": {},
   "outputs": [],
   "source": [
    "# Dropping user_id column, it is irrelevant \n",
    "predictive_modelling_df.drop(columns=[\"user_id\"], inplace=True)"
   ]
  },
  {
   "cell_type": "code",
   "execution_count": 4,
   "metadata": {},
   "outputs": [
    {
     "name": "stdout",
     "output_type": "stream",
     "text": [
      "<class 'pandas.core.frame.DataFrame'>\n",
      "RangeIndex: 342519 entries, 0 to 342518\n",
      "Data columns (total 16 columns):\n",
      " #   Column             Non-Null Count   Dtype  \n",
      "---  ------             --------------   -----  \n",
      " 0   platform           342519 non-null  object \n",
      " 1   network            342519 non-null  object \n",
      " 2   country            342519 non-null  object \n",
      " 3   age                342519 non-null  int64  \n",
      " 4   time_spend         342519 non-null  int64  \n",
      " 5   coin_spend         342519 non-null  int64  \n",
      " 6   coin_earn          342519 non-null  int64  \n",
      " 7   level_success      342519 non-null  int64  \n",
      " 8   level_fail         342519 non-null  int64  \n",
      " 9   level_start        342519 non-null  int64  \n",
      " 10  booster_spend      342519 non-null  int64  \n",
      " 11  booster_earn       342519 non-null  int64  \n",
      " 12  coin_amount        342519 non-null  int64  \n",
      " 13  event_participate  342519 non-null  int64  \n",
      " 14  shop_open          342519 non-null  float64\n",
      " 15  d30_revenue        342519 non-null  float64\n",
      "dtypes: float64(2), int64(11), object(3)\n",
      "memory usage: 41.8+ MB\n"
     ]
    }
   ],
   "source": [
    "predictive_modelling_df.info()"
   ]
  },
  {
   "cell_type": "code",
   "execution_count": 5,
   "metadata": {},
   "outputs": [
    {
     "name": "stdout",
     "output_type": "stream",
     "text": [
      "platform     2\n",
      "network     14\n",
      "country     20\n",
      "dtype: int64\n"
     ]
    }
   ],
   "source": [
    "# Examine the object type columns\n",
    "\n",
    "object_columns = predictive_modelling_df.select_dtypes(include=['object'])\n",
    "unique_counts = object_columns.nunique()\n",
    "\n",
    "print(object_columns.nunique())"
   ]
  },
  {
   "cell_type": "markdown",
   "metadata": {},
   "source": [
    "The platform column contained only two unique values, one-hot encoding was applied. However, the network and country columns, containing 14 and 20 unique values, respectively, were encoded using label encoding."
   ]
  },
  {
   "cell_type": "code",
   "execution_count": 6,
   "metadata": {},
   "outputs": [],
   "source": [
    "from sklearn.preprocessing import OneHotEncoder, LabelEncoder\n",
    "\n",
    "# Apply One-Hot Encoding to platform\n",
    "ohe_columns = [\"platform\"]\n",
    "\n",
    "# Apply Label Encoding to network and country\n",
    "label_columns = [\"network\", \"country\"]\n",
    "\n",
    "# One-Hot Encoding \n",
    "ohe = OneHotEncoder(sparse_output=False, drop='first')  #\n",
    "ohe_df = pd.DataFrame(ohe.fit_transform(predictive_modelling_df[ohe_columns]), \n",
    "                      columns=ohe.get_feature_names_out(ohe_columns))\n",
    "\n",
    "# Label Encoding\n",
    "label_encoders = {}\n",
    "for col in label_columns:\n",
    "    le = LabelEncoder()\n",
    "    predictive_modelling_df[col] = le.fit_transform(predictive_modelling_df[col])\n",
    "    label_encoders[col] = le "
   ]
  },
  {
   "cell_type": "code",
   "execution_count": 7,
   "metadata": {},
   "outputs": [],
   "source": [
    "predictive_modelling_df.drop(columns=ohe_columns, inplace=True)\n",
    "predictive_modelling_df = pd.concat([predictive_modelling_df, ohe_df], axis=1)"
   ]
  },
  {
   "cell_type": "code",
   "execution_count": 8,
   "metadata": {},
   "outputs": [
    {
     "data": {
      "text/html": [
       "<div>\n",
       "<style scoped>\n",
       "    .dataframe tbody tr th:only-of-type {\n",
       "        vertical-align: middle;\n",
       "    }\n",
       "\n",
       "    .dataframe tbody tr th {\n",
       "        vertical-align: top;\n",
       "    }\n",
       "\n",
       "    .dataframe thead th {\n",
       "        text-align: right;\n",
       "    }\n",
       "</style>\n",
       "<table border=\"1\" class=\"dataframe\">\n",
       "  <thead>\n",
       "    <tr style=\"text-align: right;\">\n",
       "      <th></th>\n",
       "      <th>network</th>\n",
       "      <th>country</th>\n",
       "      <th>age</th>\n",
       "      <th>time_spend</th>\n",
       "      <th>coin_spend</th>\n",
       "      <th>coin_earn</th>\n",
       "      <th>level_success</th>\n",
       "      <th>level_fail</th>\n",
       "      <th>level_start</th>\n",
       "      <th>booster_spend</th>\n",
       "      <th>booster_earn</th>\n",
       "      <th>coin_amount</th>\n",
       "      <th>event_participate</th>\n",
       "      <th>shop_open</th>\n",
       "      <th>d30_revenue</th>\n",
       "      <th>platform_ios</th>\n",
       "    </tr>\n",
       "  </thead>\n",
       "  <tbody>\n",
       "    <tr>\n",
       "      <th>0</th>\n",
       "      <td>10</td>\n",
       "      <td>19</td>\n",
       "      <td>53</td>\n",
       "      <td>71</td>\n",
       "      <td>0</td>\n",
       "      <td>0</td>\n",
       "      <td>0</td>\n",
       "      <td>0</td>\n",
       "      <td>0</td>\n",
       "      <td>0</td>\n",
       "      <td>0</td>\n",
       "      <td>2000</td>\n",
       "      <td>0</td>\n",
       "      <td>0.0</td>\n",
       "      <td>0.0</td>\n",
       "      <td>1.0</td>\n",
       "    </tr>\n",
       "    <tr>\n",
       "      <th>1</th>\n",
       "      <td>11</td>\n",
       "      <td>17</td>\n",
       "      <td>33</td>\n",
       "      <td>88</td>\n",
       "      <td>0</td>\n",
       "      <td>0</td>\n",
       "      <td>0</td>\n",
       "      <td>0</td>\n",
       "      <td>0</td>\n",
       "      <td>0</td>\n",
       "      <td>0</td>\n",
       "      <td>2000</td>\n",
       "      <td>0</td>\n",
       "      <td>0.0</td>\n",
       "      <td>0.0</td>\n",
       "      <td>1.0</td>\n",
       "    </tr>\n",
       "    <tr>\n",
       "      <th>2</th>\n",
       "      <td>11</td>\n",
       "      <td>16</td>\n",
       "      <td>64</td>\n",
       "      <td>2</td>\n",
       "      <td>0</td>\n",
       "      <td>0</td>\n",
       "      <td>0</td>\n",
       "      <td>0</td>\n",
       "      <td>0</td>\n",
       "      <td>0</td>\n",
       "      <td>0</td>\n",
       "      <td>2000</td>\n",
       "      <td>0</td>\n",
       "      <td>0.0</td>\n",
       "      <td>0.0</td>\n",
       "      <td>1.0</td>\n",
       "    </tr>\n",
       "    <tr>\n",
       "      <th>3</th>\n",
       "      <td>11</td>\n",
       "      <td>19</td>\n",
       "      <td>51</td>\n",
       "      <td>11</td>\n",
       "      <td>0</td>\n",
       "      <td>0</td>\n",
       "      <td>0</td>\n",
       "      <td>0</td>\n",
       "      <td>0</td>\n",
       "      <td>0</td>\n",
       "      <td>0</td>\n",
       "      <td>2000</td>\n",
       "      <td>0</td>\n",
       "      <td>0.0</td>\n",
       "      <td>0.0</td>\n",
       "      <td>1.0</td>\n",
       "    </tr>\n",
       "    <tr>\n",
       "      <th>4</th>\n",
       "      <td>11</td>\n",
       "      <td>19</td>\n",
       "      <td>70</td>\n",
       "      <td>38</td>\n",
       "      <td>0</td>\n",
       "      <td>0</td>\n",
       "      <td>0</td>\n",
       "      <td>0</td>\n",
       "      <td>0</td>\n",
       "      <td>0</td>\n",
       "      <td>0</td>\n",
       "      <td>2000</td>\n",
       "      <td>0</td>\n",
       "      <td>0.0</td>\n",
       "      <td>0.0</td>\n",
       "      <td>1.0</td>\n",
       "    </tr>\n",
       "  </tbody>\n",
       "</table>\n",
       "</div>"
      ],
      "text/plain": [
       "   network  country  age  time_spend  coin_spend  coin_earn  level_success  \\\n",
       "0       10       19   53          71           0          0              0   \n",
       "1       11       17   33          88           0          0              0   \n",
       "2       11       16   64           2           0          0              0   \n",
       "3       11       19   51          11           0          0              0   \n",
       "4       11       19   70          38           0          0              0   \n",
       "\n",
       "   level_fail  level_start  booster_spend  booster_earn  coin_amount  \\\n",
       "0           0            0              0             0         2000   \n",
       "1           0            0              0             0         2000   \n",
       "2           0            0              0             0         2000   \n",
       "3           0            0              0             0         2000   \n",
       "4           0            0              0             0         2000   \n",
       "\n",
       "   event_participate  shop_open  d30_revenue  platform_ios  \n",
       "0                  0        0.0          0.0           1.0  \n",
       "1                  0        0.0          0.0           1.0  \n",
       "2                  0        0.0          0.0           1.0  \n",
       "3                  0        0.0          0.0           1.0  \n",
       "4                  0        0.0          0.0           1.0  "
      ]
     },
     "execution_count": 8,
     "metadata": {},
     "output_type": "execute_result"
    }
   ],
   "source": [
    "predictive_modelling_df.head()"
   ]
  },
  {
   "cell_type": "code",
   "execution_count": 9,
   "metadata": {},
   "outputs": [
    {
     "name": "stdout",
     "output_type": "stream",
     "text": [
      "<class 'pandas.core.frame.DataFrame'>\n",
      "RangeIndex: 342519 entries, 0 to 342518\n",
      "Data columns (total 16 columns):\n",
      " #   Column             Non-Null Count   Dtype  \n",
      "---  ------             --------------   -----  \n",
      " 0   network            342519 non-null  int32  \n",
      " 1   country            342519 non-null  int32  \n",
      " 2   age                342519 non-null  int64  \n",
      " 3   time_spend         342519 non-null  int64  \n",
      " 4   coin_spend         342519 non-null  int64  \n",
      " 5   coin_earn          342519 non-null  int64  \n",
      " 6   level_success      342519 non-null  int64  \n",
      " 7   level_fail         342519 non-null  int64  \n",
      " 8   level_start        342519 non-null  int64  \n",
      " 9   booster_spend      342519 non-null  int64  \n",
      " 10  booster_earn       342519 non-null  int64  \n",
      " 11  coin_amount        342519 non-null  int64  \n",
      " 12  event_participate  342519 non-null  int64  \n",
      " 13  shop_open          342519 non-null  float64\n",
      " 14  d30_revenue        342519 non-null  float64\n",
      " 15  platform_ios       342519 non-null  float64\n",
      "dtypes: float64(3), int32(2), int64(11)\n",
      "memory usage: 39.2 MB\n"
     ]
    }
   ],
   "source": [
    "predictive_modelling_df.info()"
   ]
  },
  {
   "cell_type": "markdown",
   "metadata": {},
   "source": [
    "New columns are to be added to the dataset through feature engineering before dealing with the target column."
   ]
  },
  {
   "cell_type": "markdown",
   "metadata": {},
   "source": [
    "### Feature Engineering"
   ]
  },
  {
   "cell_type": "markdown",
   "metadata": {},
   "source": [
    "Added cols:"
   ]
  },
  {
   "cell_type": "markdown",
   "metadata": {},
   "source": [
    "Level Completion Rate (level_completion_rate) → Measures how often players successfully complete levels, indicating skill or difficulty."
   ]
  },
  {
   "cell_type": "markdown",
   "metadata": {},
   "source": [
    "Average Session Time (avg_session_time) → Shows how long players stay engaged per session."
   ]
  },
  {
   "cell_type": "markdown",
   "metadata": {},
   "source": [
    "Coin Spend Ratio (coin_spend_ratio) → Indicates spending behavior by comparing coins spent vs. earned."
   ]
  },
  {
   "cell_type": "markdown",
   "metadata": {},
   "source": [
    "Booster Usage Ratio (booster_usage_ratio) → Reveals how often players rely on boosters to progress."
   ]
  },
  {
   "cell_type": "code",
   "execution_count": 10,
   "metadata": {},
   "outputs": [],
   "source": [
    "# Calculate Level Completion Rate\n",
    "predictive_modelling_df['level_completion_rate'] = predictive_modelling_df['level_success'] / (\n",
    "    predictive_modelling_df['level_success'] + predictive_modelling_df['level_fail']\n",
    ")\n",
    "\n",
    "# Calculate Average Session Time\n",
    "predictive_modelling_df['avg_session_time'] = predictive_modelling_df['time_spend'] / (predictive_modelling_df['level_start'] + 1)\n",
    "\n",
    "# Calculate Coin Spend Ratio\n",
    "predictive_modelling_df['coin_spend_ratio'] = predictive_modelling_df['coin_spend'] / (\n",
    "    predictive_modelling_df['coin_spend'] + predictive_modelling_df['coin_earn']\n",
    ")\n",
    "\n",
    "# Calculate Booster Usage Ratio\n",
    "predictive_modelling_df['booster_usage_ratio'] = predictive_modelling_df['booster_spend'] / (\n",
    "    predictive_modelling_df['booster_earn'] + 1\n",
    ")\n",
    "\n",
    "# Replace NaN values with 0 (to prevent division errors)\n",
    "predictive_modelling_df.fillna(0, inplace=True)"
   ]
  },
  {
   "cell_type": "code",
   "execution_count": 11,
   "metadata": {},
   "outputs": [
    {
     "data": {
      "text/html": [
       "<div>\n",
       "<style scoped>\n",
       "    .dataframe tbody tr th:only-of-type {\n",
       "        vertical-align: middle;\n",
       "    }\n",
       "\n",
       "    .dataframe tbody tr th {\n",
       "        vertical-align: top;\n",
       "    }\n",
       "\n",
       "    .dataframe thead th {\n",
       "        text-align: right;\n",
       "    }\n",
       "</style>\n",
       "<table border=\"1\" class=\"dataframe\">\n",
       "  <thead>\n",
       "    <tr style=\"text-align: right;\">\n",
       "      <th></th>\n",
       "      <th>network</th>\n",
       "      <th>country</th>\n",
       "      <th>age</th>\n",
       "      <th>time_spend</th>\n",
       "      <th>coin_spend</th>\n",
       "      <th>coin_earn</th>\n",
       "      <th>level_success</th>\n",
       "      <th>level_fail</th>\n",
       "      <th>level_start</th>\n",
       "      <th>booster_spend</th>\n",
       "      <th>booster_earn</th>\n",
       "      <th>coin_amount</th>\n",
       "      <th>event_participate</th>\n",
       "      <th>shop_open</th>\n",
       "      <th>d30_revenue</th>\n",
       "      <th>platform_ios</th>\n",
       "      <th>level_completion_rate</th>\n",
       "      <th>avg_session_time</th>\n",
       "      <th>coin_spend_ratio</th>\n",
       "      <th>booster_usage_ratio</th>\n",
       "    </tr>\n",
       "  </thead>\n",
       "  <tbody>\n",
       "    <tr>\n",
       "      <th>0</th>\n",
       "      <td>10</td>\n",
       "      <td>19</td>\n",
       "      <td>53</td>\n",
       "      <td>71</td>\n",
       "      <td>0</td>\n",
       "      <td>0</td>\n",
       "      <td>0</td>\n",
       "      <td>0</td>\n",
       "      <td>0</td>\n",
       "      <td>0</td>\n",
       "      <td>0</td>\n",
       "      <td>2000</td>\n",
       "      <td>0</td>\n",
       "      <td>0.0</td>\n",
       "      <td>0.0</td>\n",
       "      <td>1.0</td>\n",
       "      <td>0.0</td>\n",
       "      <td>71.0</td>\n",
       "      <td>0.0</td>\n",
       "      <td>0.0</td>\n",
       "    </tr>\n",
       "    <tr>\n",
       "      <th>1</th>\n",
       "      <td>11</td>\n",
       "      <td>17</td>\n",
       "      <td>33</td>\n",
       "      <td>88</td>\n",
       "      <td>0</td>\n",
       "      <td>0</td>\n",
       "      <td>0</td>\n",
       "      <td>0</td>\n",
       "      <td>0</td>\n",
       "      <td>0</td>\n",
       "      <td>0</td>\n",
       "      <td>2000</td>\n",
       "      <td>0</td>\n",
       "      <td>0.0</td>\n",
       "      <td>0.0</td>\n",
       "      <td>1.0</td>\n",
       "      <td>0.0</td>\n",
       "      <td>88.0</td>\n",
       "      <td>0.0</td>\n",
       "      <td>0.0</td>\n",
       "    </tr>\n",
       "    <tr>\n",
       "      <th>2</th>\n",
       "      <td>11</td>\n",
       "      <td>16</td>\n",
       "      <td>64</td>\n",
       "      <td>2</td>\n",
       "      <td>0</td>\n",
       "      <td>0</td>\n",
       "      <td>0</td>\n",
       "      <td>0</td>\n",
       "      <td>0</td>\n",
       "      <td>0</td>\n",
       "      <td>0</td>\n",
       "      <td>2000</td>\n",
       "      <td>0</td>\n",
       "      <td>0.0</td>\n",
       "      <td>0.0</td>\n",
       "      <td>1.0</td>\n",
       "      <td>0.0</td>\n",
       "      <td>2.0</td>\n",
       "      <td>0.0</td>\n",
       "      <td>0.0</td>\n",
       "    </tr>\n",
       "    <tr>\n",
       "      <th>3</th>\n",
       "      <td>11</td>\n",
       "      <td>19</td>\n",
       "      <td>51</td>\n",
       "      <td>11</td>\n",
       "      <td>0</td>\n",
       "      <td>0</td>\n",
       "      <td>0</td>\n",
       "      <td>0</td>\n",
       "      <td>0</td>\n",
       "      <td>0</td>\n",
       "      <td>0</td>\n",
       "      <td>2000</td>\n",
       "      <td>0</td>\n",
       "      <td>0.0</td>\n",
       "      <td>0.0</td>\n",
       "      <td>1.0</td>\n",
       "      <td>0.0</td>\n",
       "      <td>11.0</td>\n",
       "      <td>0.0</td>\n",
       "      <td>0.0</td>\n",
       "    </tr>\n",
       "    <tr>\n",
       "      <th>4</th>\n",
       "      <td>11</td>\n",
       "      <td>19</td>\n",
       "      <td>70</td>\n",
       "      <td>38</td>\n",
       "      <td>0</td>\n",
       "      <td>0</td>\n",
       "      <td>0</td>\n",
       "      <td>0</td>\n",
       "      <td>0</td>\n",
       "      <td>0</td>\n",
       "      <td>0</td>\n",
       "      <td>2000</td>\n",
       "      <td>0</td>\n",
       "      <td>0.0</td>\n",
       "      <td>0.0</td>\n",
       "      <td>1.0</td>\n",
       "      <td>0.0</td>\n",
       "      <td>38.0</td>\n",
       "      <td>0.0</td>\n",
       "      <td>0.0</td>\n",
       "    </tr>\n",
       "  </tbody>\n",
       "</table>\n",
       "</div>"
      ],
      "text/plain": [
       "   network  country  age  time_spend  coin_spend  coin_earn  level_success  \\\n",
       "0       10       19   53          71           0          0              0   \n",
       "1       11       17   33          88           0          0              0   \n",
       "2       11       16   64           2           0          0              0   \n",
       "3       11       19   51          11           0          0              0   \n",
       "4       11       19   70          38           0          0              0   \n",
       "\n",
       "   level_fail  level_start  booster_spend  booster_earn  coin_amount  \\\n",
       "0           0            0              0             0         2000   \n",
       "1           0            0              0             0         2000   \n",
       "2           0            0              0             0         2000   \n",
       "3           0            0              0             0         2000   \n",
       "4           0            0              0             0         2000   \n",
       "\n",
       "   event_participate  shop_open  d30_revenue  platform_ios  \\\n",
       "0                  0        0.0          0.0           1.0   \n",
       "1                  0        0.0          0.0           1.0   \n",
       "2                  0        0.0          0.0           1.0   \n",
       "3                  0        0.0          0.0           1.0   \n",
       "4                  0        0.0          0.0           1.0   \n",
       "\n",
       "   level_completion_rate  avg_session_time  coin_spend_ratio  \\\n",
       "0                    0.0              71.0               0.0   \n",
       "1                    0.0              88.0               0.0   \n",
       "2                    0.0               2.0               0.0   \n",
       "3                    0.0              11.0               0.0   \n",
       "4                    0.0              38.0               0.0   \n",
       "\n",
       "   booster_usage_ratio  \n",
       "0                  0.0  \n",
       "1                  0.0  \n",
       "2                  0.0  \n",
       "3                  0.0  \n",
       "4                  0.0  "
      ]
     },
     "execution_count": 11,
     "metadata": {},
     "output_type": "execute_result"
    }
   ],
   "source": [
    "predictive_modelling_df.head()"
   ]
  },
  {
   "cell_type": "code",
   "execution_count": 12,
   "metadata": {},
   "outputs": [
    {
     "name": "stdout",
     "output_type": "stream",
     "text": [
      "<class 'pandas.core.frame.DataFrame'>\n",
      "RangeIndex: 342519 entries, 0 to 342518\n",
      "Data columns (total 20 columns):\n",
      " #   Column                 Non-Null Count   Dtype  \n",
      "---  ------                 --------------   -----  \n",
      " 0   network                342519 non-null  int32  \n",
      " 1   country                342519 non-null  int32  \n",
      " 2   age                    342519 non-null  int64  \n",
      " 3   time_spend             342519 non-null  int64  \n",
      " 4   coin_spend             342519 non-null  int64  \n",
      " 5   coin_earn              342519 non-null  int64  \n",
      " 6   level_success          342519 non-null  int64  \n",
      " 7   level_fail             342519 non-null  int64  \n",
      " 8   level_start            342519 non-null  int64  \n",
      " 9   booster_spend          342519 non-null  int64  \n",
      " 10  booster_earn           342519 non-null  int64  \n",
      " 11  coin_amount            342519 non-null  int64  \n",
      " 12  event_participate      342519 non-null  int64  \n",
      " 13  shop_open              342519 non-null  float64\n",
      " 14  d30_revenue            342519 non-null  float64\n",
      " 15  platform_ios           342519 non-null  float64\n",
      " 16  level_completion_rate  342519 non-null  float64\n",
      " 17  avg_session_time       342519 non-null  float64\n",
      " 18  coin_spend_ratio       342519 non-null  float64\n",
      " 19  booster_usage_ratio    342519 non-null  float64\n",
      "dtypes: float64(7), int32(2), int64(11)\n",
      "memory usage: 49.7 MB\n"
     ]
    }
   ],
   "source": [
    "predictive_modelling_df.info()"
   ]
  },
  {
   "cell_type": "markdown",
   "metadata": {},
   "source": [
    "Based on domain expertise, it was determined that all existing rows in the dataset were relevant to the task. Statistical analyses such as correlation, which indicate relationships rather than causation, were not applied due to concerns that they could be misleading."
   ]
  },
  {
   "cell_type": "markdown",
   "metadata": {},
   "source": [
    "Target Column"
   ]
  },
  {
   "cell_type": "code",
   "execution_count": 13,
   "metadata": {},
   "outputs": [
    {
     "data": {
      "text/plain": [
       "count    342519.000000\n",
       "mean          7.914432\n",
       "std          91.520370\n",
       "min           0.000000\n",
       "25%           0.000000\n",
       "50%           0.000000\n",
       "75%           0.000000\n",
       "max       11071.190000\n",
       "Name: d30_revenue, dtype: float64"
      ]
     },
     "execution_count": 13,
     "metadata": {},
     "output_type": "execute_result"
    }
   ],
   "source": [
    "# Examine the target column (d30_revenue_binary)\n",
    "predictive_modelling_df['d30_revenue'].describe()"
   ]
  },
  {
   "cell_type": "markdown",
   "metadata": {},
   "source": [
    "Mean is 7.91 and max is 11071. However, a binary target column is needed because this is a classification case"
   ]
  },
  {
   "cell_type": "code",
   "execution_count": 14,
   "metadata": {},
   "outputs": [],
   "source": [
    "# Target column is transformed into binary\n",
    "\n",
    "# Convert the target column to binary (1 if greater than 0, else 0)\n",
    "predictive_modelling_df['d30_revenue_binary'] = (predictive_modelling_df['d30_revenue'] > 0).astype(int)"
   ]
  },
  {
   "cell_type": "code",
   "execution_count": 15,
   "metadata": {},
   "outputs": [
    {
     "data": {
      "image/png": "[encoded data removed]",
      "text/plain": [
       "<Figure size 600x400 with 1 Axes>"
      ]
     },
     "metadata": {},
     "output_type": "display_data"
    }
   ],
   "source": [
    "# Re-Examine the target column\n",
    "\n",
    "# Count occurrences of each class (0 and 1)\n",
    "class_counts = predictive_modelling_df['d30_revenue_binary'].value_counts()\n",
    "\n",
    "# Plot a bar chart for class distribution\n",
    "plt.figure(figsize=(6, 4))\n",
    "plt.bar(class_counts.index, class_counts.values, tick_label=['0', '1'])\n",
    "plt.xlabel('Class')\n",
    "plt.ylabel('Count')\n",
    "plt.title('Distribution of d30_revenue_binary')\n",
    "plt.show()"
   ]
  },
  {
   "cell_type": "code",
   "execution_count": 16,
   "metadata": {},
   "outputs": [
    {
     "data": {
      "text/plain": [
       "d30_revenue_binary\n",
       "0    315683\n",
       "1     26836\n",
       "Name: count, dtype: int64"
      ]
     },
     "execution_count": 16,
     "metadata": {},
     "output_type": "execute_result"
    }
   ],
   "source": [
    "# Re-Examine the target column\n",
    "\n",
    "class_counts"
   ]
  },
  {
   "cell_type": "code",
   "execution_count": 17,
   "metadata": {},
   "outputs": [
    {
     "name": "stdout",
     "output_type": "stream",
     "text": [
      "Ratio of 0s to 1s: 11.76\n"
     ]
    }
   ],
   "source": [
    "# Re-Examine the target column\n",
    "\n",
    "# Count occurrences of each class (0 and 1)\n",
    "class_counts = predictive_modelling_df['d30_revenue_binary'].value_counts()\n",
    "\n",
    "# Compute the ratio of 0s to 1s\n",
    "zero_to_one_ratio = class_counts[0] / class_counts[1]\n",
    "\n",
    "# Print the ratio\n",
    "print(f\"Ratio of 0s to 1s: {zero_to_one_ratio:.2f}\")"
   ]
  },
  {
   "cell_type": "markdown",
   "metadata": {},
   "source": [
    "The number of 0s in the target column is significantly higher than the number of 1s. Different ML approaches were tried to address this imbalance."
   ]
  },
  {
   "cell_type": "markdown",
   "metadata": {},
   "source": [
    "### Predictive Models"
   ]
  },
  {
   "cell_type": "markdown",
   "metadata": {},
   "source": [
    "First, The data is divided into training and test sets using a stratified approach. A simple model is trained on the original training set, without any resampling or special weighting. Accuracy, precision, recall, F1, ROC AUC, and PR AUC will be measured to serve as baseline metrics."
   ]
  },
  {
   "cell_type": "code",
   "execution_count": 18,
   "metadata": {},
   "outputs": [],
   "source": [
    "df_clean = predictive_modelling_df.drop(columns=[\"d30_revenue\"])  # remove target col\n",
    "\n",
    "# Separate features (X) and target (y)\n",
    "X = df_clean.drop(columns=[\"d30_revenue_binary\"])\n",
    "y = df_clean[\"d30_revenue_binary\"]\n",
    "\n",
    "# Train-Test Split (with stratification)\n",
    "from sklearn.model_selection import train_test_split\n",
    "\n",
    "X_train, X_test, y_train, y_test = train_test_split(\n",
    "    X, \n",
    "    y, \n",
    "    test_size=0.2, \n",
    "    random_state=42, \n",
    "    stratify=y\n",
    ")"
   ]
  },
  {
   "cell_type": "markdown",
   "metadata": {},
   "source": [
    "Then:"
   ]
  },
  {
   "cell_type": "markdown",
   "metadata": {},
   "source": [
    "1-) Baseline Model Training: A simple RandomForestClassifier is trained on the original training set (no resampling). Evaluated using standard classification metrics."
   ]
  },
  {
   "cell_type": "code",
   "execution_count": 19,
   "metadata": {},
   "outputs": [
    {
     "name": "stdout",
     "output_type": "stream",
     "text": [
      "=== Baseline RandomForest (No SMOTE) ===\n",
      "              precision    recall  f1-score   support\n",
      "\n",
      "           0       0.93      1.00      0.96     63137\n",
      "           1       0.75      0.17      0.28      5367\n",
      "\n",
      "    accuracy                           0.93     68504\n",
      "   macro avg       0.84      0.58      0.62     68504\n",
      "weighted avg       0.92      0.93      0.91     68504\n",
      "\n",
      "ROC AUC: 0.8412\n",
      "PR AUC: 0.4235\n"
     ]
    }
   ],
   "source": [
    "from sklearn.ensemble import RandomForestClassifier\n",
    "from sklearn.metrics import classification_report, roc_auc_score, average_precision_score\n",
    "\n",
    "# Train the baseline Random Forest (no SMOTE)\n",
    "rf_baseline = RandomForestClassifier(random_state=42, n_estimators=100)\n",
    "rf_baseline.fit(X_train, y_train)\n",
    "\n",
    "# Prediction \n",
    "y_pred_baseline = rf_baseline.predict(X_test)\n",
    "y_prob_baseline = rf_baseline.predict_proba(X_test)[:, 1]  # for ROC AUC & PR AUC\n",
    "\n",
    "# Evaluation (Precision, Recall, F1, ROC AUC, PR AUC)\n",
    "print(\"=== Baseline RandomForest (No SMOTE) ===\")\n",
    "print(classification_report(y_test, y_pred_baseline))\n",
    "\n",
    "roc_baseline = roc_auc_score(y_test, y_prob_baseline)\n",
    "pr_baseline = average_precision_score(y_test, y_prob_baseline)\n",
    "\n",
    "print(f\"ROC AUC: {roc_baseline:.4f}\")\n",
    "print(f\"PR AUC: {pr_baseline:.4f}\")"
   ]
  },
  {
   "cell_type": "markdown",
   "metadata": {},
   "source": [
    "2-) SMOTE is applied only to the training set to handle class imbalance, and then the same RandomForest model re-trained. New metrics and baseline are compared."
   ]
  },
  {
   "cell_type": "code",
   "execution_count": 20,
   "metadata": {},
   "outputs": [
    {
     "name": "stdout",
     "output_type": "stream",
     "text": [
      "Original training label distribution:\n",
      "d30_revenue_binary\n",
      "0    252546\n",
      "1     21469\n",
      "Name: count, dtype: int64\n",
      "\n",
      "Resampled training label distribution (SMOTE):\n",
      "d30_revenue_binary\n",
      "0    252546\n",
      "1    252546\n",
      "Name: count, dtype: int64\n",
      "\n",
      "=== RandomForest with SMOTE ===\n",
      "              precision    recall  f1-score   support\n",
      "\n",
      "           0       0.94      0.96      0.95     63137\n",
      "           1       0.39      0.29      0.34      5367\n",
      "\n",
      "    accuracy                           0.91     68504\n",
      "   macro avg       0.67      0.63      0.64     68504\n",
      "weighted avg       0.90      0.91      0.90     68504\n",
      "\n",
      "ROC AUC: 0.8271\n",
      "PR AUC: 0.3490\n"
     ]
    }
   ],
   "source": [
    "from imblearn.over_sampling import SMOTE\n",
    "\n",
    "# Apply SMOTE to the TRAIN set only\n",
    "sm = SMOTE(random_state=42)\n",
    "X_train_sm, y_train_sm = sm.fit_resample(X_train, y_train)\n",
    "\n",
    "print(\"Original training label distribution:\")\n",
    "print(y_train.value_counts())\n",
    "print(\"\\nResampled training label distribution (SMOTE):\")\n",
    "print(y_train_sm.value_counts())\n",
    "\n",
    "# Retrain RandomForest on SMOTE-resampled data\n",
    "rf_smote = RandomForestClassifier(random_state=42, n_estimators=100)\n",
    "rf_smote.fit(X_train_sm, y_train_sm)\n",
    "\n",
    "# Prediction \n",
    "y_pred_smote = rf_smote.predict(X_test)\n",
    "y_prob_smote = rf_smote.predict_proba(X_test)[:, 1]\n",
    "\n",
    "# Evaluation (Precision, Recall, F1, ROC AUC, PR AUC)\n",
    "print(\"\\n=== RandomForest with SMOTE ===\")\n",
    "print(classification_report(y_test, y_pred_smote))\n",
    "\n",
    "roc_smote = roc_auc_score(y_test, y_prob_smote)\n",
    "pr_smote = average_precision_score(y_test, y_prob_smote)\n",
    "\n",
    "print(f\"ROC AUC: {roc_smote:.4f}\")\n",
    "print(f\"PR AUC: {pr_smote:.4f}\")"
   ]
  },
  {
   "cell_type": "markdown",
   "metadata": {},
   "source": [
    "3-) XGBoost is used without SMOTE. Results are compared."
   ]
  },
  {
   "cell_type": "code",
   "execution_count": 21,
   "metadata": {},
   "outputs": [
    {
     "name": "stdout",
     "output_type": "stream",
     "text": [
      "\n",
      "=== XGBoost (No SMOTE) ===\n",
      "              precision    recall  f1-score   support\n",
      "\n",
      "           0       0.94      0.99      0.96     63137\n",
      "           1       0.71      0.20      0.31      5367\n",
      "\n",
      "    accuracy                           0.93     68504\n",
      "   macro avg       0.82      0.60      0.64     68504\n",
      "weighted avg       0.92      0.93      0.91     68504\n",
      "\n",
      "ROC AUC: 0.8647\n",
      "PR AUC: 0.4569\n"
     ]
    }
   ],
   "source": [
    "import xgboost as xgb\n",
    "\n",
    "# XGBoost WITHOUT SMOTE\n",
    "xgb_no_smote = xgb.XGBClassifier(\n",
    "    objective='binary:logistic',\n",
    "    random_state=42\n",
    ")\n",
    "xgb_no_smote.fit(X_train, y_train)\n",
    "\n",
    "# Prediction \n",
    "y_pred_xgb_no_smote = xgb_no_smote.predict(X_test)\n",
    "y_prob_xgb_no_smote = xgb_no_smote.predict_proba(X_test)[:, 1]\n",
    "\n",
    "# Evaluation (Precision, Recall, F1, ROC AUC, PR AUC)\n",
    "print(\"\\n=== XGBoost (No SMOTE) ===\")\n",
    "print(classification_report(y_test, y_pred_xgb_no_smote))\n",
    "\n",
    "roc_xgb_no_smote = roc_auc_score(y_test, y_prob_xgb_no_smote)\n",
    "pr_xgb_no_smote = average_precision_score(y_test, y_prob_xgb_no_smote)\n",
    "\n",
    "print(f\"ROC AUC: {roc_xgb_no_smote:.4f}\")\n",
    "print(f\"PR AUC: {pr_xgb_no_smote:.4f}\")"
   ]
  },
  {
   "cell_type": "markdown",
   "metadata": {},
   "source": [
    "4-) XGBoost is used with SMOTE. Results are compared."
   ]
  },
  {
   "cell_type": "code",
   "execution_count": 22,
   "metadata": {},
   "outputs": [
    {
     "name": "stdout",
     "output_type": "stream",
     "text": [
      "\n",
      "=== XGBoost (With SMOTE) ===\n",
      "              precision    recall  f1-score   support\n",
      "\n",
      "           0       0.95      0.95      0.95     63137\n",
      "           1       0.37      0.36      0.36      5367\n",
      "\n",
      "    accuracy                           0.90     68504\n",
      "   macro avg       0.66      0.65      0.66     68504\n",
      "weighted avg       0.90      0.90      0.90     68504\n",
      "\n",
      "ROC AUC: 0.8283\n",
      "PR AUC: 0.3710\n"
     ]
    }
   ],
   "source": [
    "# XGBoost WITH SMOTE\n",
    "xgb_smote = xgb.XGBClassifier(\n",
    "    objective='binary:logistic',\n",
    "    random_state=42\n",
    ")\n",
    "xgb_smote.fit(X_train_sm, y_train_sm)\n",
    "\n",
    "# Prediction \n",
    "y_pred_xgb_smote = xgb_smote.predict(X_test)\n",
    "y_prob_xgb_smote = xgb_smote.predict_proba(X_test)[:, 1]\n",
    "\n",
    "# Evaluation\n",
    "print(\"\\n=== XGBoost (With SMOTE) ===\")\n",
    "print(classification_report(y_test, y_pred_xgb_smote))\n",
    "\n",
    "roc_xgb_smote = roc_auc_score(y_test, y_prob_xgb_smote)\n",
    "pr_xgb_smote = average_precision_score(y_test, y_prob_xgb_smote)\n",
    "\n",
    "print(f\"ROC AUC: {roc_xgb_smote:.4f}\")\n",
    "print(f\"PR AUC: {pr_xgb_smote:.4f}\")"
   ]
  },
  {
   "cell_type": "markdown",
   "metadata": {},
   "source": [
    "5-) MLP without SMOTE"
   ]
  },
  {
   "cell_type": "code",
   "execution_count": 23,
   "metadata": {},
   "outputs": [
    {
     "name": "stderr",
     "output_type": "stream",
     "text": [
      "c:\\Users\\Olgu\\AppData\\Local\\Programs\\Python\\Python312\\Lib\\site-packages\\keras\\src\\layers\\core\\dense.py:87: UserWarning: Do not pass an `input_shape`/`input_dim` argument to a layer. When using Sequential models, prefer using an `Input(shape)` object as the first layer in the model instead.\n",
      "  super().__init__(activity_regularizer=activity_regularizer, **kwargs)\n"
     ]
    },
    {
     "name": "stdout",
     "output_type": "stream",
     "text": [
      "Epoch 1/10\n",
      "\u001b[1m857/857\u001b[0m \u001b[32m━━━━━━━━━━━━━━━━━━━━\u001b[0m\u001b[37m\u001b[0m \u001b[1m6s\u001b[0m 4ms/step - accuracy: 0.9212 - loss: 0.2506 - val_accuracy: 0.9285 - val_loss: 0.2074\n",
      "Epoch 2/10\n",
      "\u001b[1m857/857\u001b[0m \u001b[32m━━━━━━━━━━━━━━━━━━━━\u001b[0m\u001b[37m\u001b[0m \u001b[1m3s\u001b[0m 3ms/step - accuracy: 0.9269 - loss: 0.2171 - val_accuracy: 0.9291 - val_loss: 0.2034\n",
      "Epoch 3/10\n",
      "\u001b[1m857/857\u001b[0m \u001b[32m━━━━━━━━━━━━━━━━━━━━\u001b[0m\u001b[37m\u001b[0m \u001b[1m3s\u001b[0m 3ms/step - accuracy: 0.9285 - loss: 0.2089 - val_accuracy: 0.9299 - val_loss: 0.2009\n",
      "Epoch 4/10\n",
      "\u001b[1m857/857\u001b[0m \u001b[32m━━━━━━━━━━━━━━━━━━━━\u001b[0m\u001b[37m\u001b[0m \u001b[1m3s\u001b[0m 4ms/step - accuracy: 0.9279 - loss: 0.2087 - val_accuracy: 0.9300 - val_loss: 0.1998\n",
      "Epoch 5/10\n",
      "\u001b[1m857/857\u001b[0m \u001b[32m━━━━━━━━━━━━━━━━━━━━\u001b[0m\u001b[37m\u001b[0m \u001b[1m3s\u001b[0m 4ms/step - accuracy: 0.9296 - loss: 0.2074 - val_accuracy: 0.9306 - val_loss: 0.1995\n",
      "Epoch 6/10\n",
      "\u001b[1m857/857\u001b[0m \u001b[32m━━━━━━━━━━━━━━━━━━━━\u001b[0m\u001b[37m\u001b[0m \u001b[1m3s\u001b[0m 4ms/step - accuracy: 0.9292 - loss: 0.2069 - val_accuracy: 0.9305 - val_loss: 0.1991\n",
      "Epoch 7/10\n",
      "\u001b[1m857/857\u001b[0m \u001b[32m━━━━━━━━━━━━━━━━━━━━\u001b[0m\u001b[37m\u001b[0m \u001b[1m3s\u001b[0m 4ms/step - accuracy: 0.9299 - loss: 0.2037 - val_accuracy: 0.9306 - val_loss: 0.1988\n",
      "Epoch 8/10\n",
      "\u001b[1m857/857\u001b[0m \u001b[32m━━━━━━━━━━━━━━━━━━━━\u001b[0m\u001b[37m\u001b[0m \u001b[1m4s\u001b[0m 4ms/step - accuracy: 0.9306 - loss: 0.2042 - val_accuracy: 0.9306 - val_loss: 0.1983\n",
      "Epoch 9/10\n",
      "\u001b[1m857/857\u001b[0m \u001b[32m━━━━━━━━━━━━━━━━━━━━\u001b[0m\u001b[37m\u001b[0m \u001b[1m4s\u001b[0m 4ms/step - accuracy: 0.9305 - loss: 0.2051 - val_accuracy: 0.9312 - val_loss: 0.1978\n",
      "Epoch 10/10\n",
      "\u001b[1m857/857\u001b[0m \u001b[32m━━━━━━━━━━━━━━━━━━━━\u001b[0m\u001b[37m\u001b[0m \u001b[1m3s\u001b[0m 4ms/step - accuracy: 0.9300 - loss: 0.2042 - val_accuracy: 0.9310 - val_loss: 0.1979\n",
      "\u001b[1m2141/2141\u001b[0m \u001b[32m━━━━━━━━━━━━━━━━━━━━\u001b[0m\u001b[37m\u001b[0m \u001b[1m4s\u001b[0m 2ms/step\n",
      "=== MLP (No SMOTE) ===\n",
      "              precision    recall  f1-score   support\n",
      "\n",
      "           0       0.93      1.00      0.96     63137\n",
      "           1       0.83      0.14      0.24      5367\n",
      "\n",
      "    accuracy                           0.93     68504\n",
      "   macro avg       0.88      0.57      0.60     68504\n",
      "weighted avg       0.92      0.93      0.91     68504\n",
      "\n",
      "ROC AUC: 0.8511\n",
      "PR AUC: 0.4379\n"
     ]
    }
   ],
   "source": [
    "# TensorFlow / Keras\n",
    "import tensorflow as tf\n",
    "from tensorflow.keras import Sequential\n",
    "from tensorflow.keras.layers import Dense, Dropout\n",
    "from tensorflow.keras.optimizers import Adam\n",
    "\n",
    "from sklearn.preprocessing import StandardScaler\n",
    "\n",
    "# Defining the MLP model\n",
    "def create_model(input_dim):\n",
    "    model = Sequential()\n",
    "\n",
    "    model.add(Dense(64, activation='relu', input_shape=(input_dim,)))\n",
    "    model.add(Dropout(0.2))\n",
    "    model.add(Dense(32, activation='relu'))\n",
    "    model.add(Dropout(0.2))\n",
    "    model.add(Dense(1, activation='sigmoid'))\n",
    "    \n",
    "    model.compile(\n",
    "        loss='binary_crossentropy',\n",
    "        optimizer=Adam(learning_rate=0.001),\n",
    "        metrics=['accuracy']\n",
    "    )\n",
    "    return model\n",
    "\n",
    "# Scaling is important for neural networks\n",
    "scaler = StandardScaler()\n",
    "X_train_scaled = scaler.fit_transform(X_train)\n",
    "X_test_scaled = scaler.transform(X_test)\n",
    "\n",
    "\n",
    "\n",
    "input_dim = X_train_scaled.shape[1]\n",
    "model_dl = create_model(input_dim)\n",
    "\n",
    "history = model_dl.fit(\n",
    "    X_train_scaled, y_train,\n",
    "    validation_split=0.2, # Validation is 0.2\n",
    "    epochs=10,\n",
    "    batch_size=256,\n",
    "    verbose=1\n",
    ")\n",
    "\n",
    "# Prediction \n",
    "y_prob_dl = model_dl.predict(X_test_scaled).ravel()  \n",
    "y_pred_dl = (y_prob_dl >= 0.5).astype(int)           \n",
    "\n",
    "# Evaluation\n",
    "print(\"=== MLP (No SMOTE) ===\")\n",
    "print(classification_report(y_test, y_pred_dl))\n",
    "\n",
    "roc_dl = roc_auc_score(y_test, y_prob_dl)\n",
    "pr_dl = average_precision_score(y_test, y_prob_dl)\n",
    "\n",
    "print(f\"ROC AUC: {roc_dl:.4f}\")\n",
    "print(f\"PR AUC: {pr_dl:.4f}\")"
   ]
  },
  {
   "cell_type": "markdown",
   "metadata": {},
   "source": [
    "6-) MLP with SMOTE"
   ]
  },
  {
   "cell_type": "code",
   "execution_count": 24,
   "metadata": {},
   "outputs": [
    {
     "name": "stdout",
     "output_type": "stream",
     "text": [
      "Epoch 1/10\n"
     ]
    },
    {
     "name": "stderr",
     "output_type": "stream",
     "text": [
      "c:\\Users\\Olgu\\AppData\\Local\\Programs\\Python\\Python312\\Lib\\site-packages\\keras\\src\\layers\\core\\dense.py:87: UserWarning: Do not pass an `input_shape`/`input_dim` argument to a layer. When using Sequential models, prefer using an `Input(shape)` object as the first layer in the model instead.\n",
      "  super().__init__(activity_regularizer=activity_regularizer, **kwargs)\n"
     ]
    },
    {
     "name": "stdout",
     "output_type": "stream",
     "text": [
      "\u001b[1m1579/1579\u001b[0m \u001b[32m━━━━━━━━━━━━━━━━━━━━\u001b[0m\u001b[37m\u001b[0m \u001b[1m8s\u001b[0m 4ms/step - accuracy: 0.7547 - loss: 0.4985 - val_accuracy: 0.7076 - val_loss: 0.6044\n",
      "Epoch 2/10\n",
      "\u001b[1m1579/1579\u001b[0m \u001b[32m━━━━━━━━━━━━━━━━━━━━\u001b[0m\u001b[37m\u001b[0m \u001b[1m6s\u001b[0m 4ms/step - accuracy: 0.7755 - loss: 0.4607 - val_accuracy: 0.7067 - val_loss: 0.6002\n",
      "Epoch 3/10\n",
      "\u001b[1m1579/1579\u001b[0m \u001b[32m━━━━━━━━━━━━━━━━━━━━\u001b[0m\u001b[37m\u001b[0m \u001b[1m6s\u001b[0m 4ms/step - accuracy: 0.7804 - loss: 0.4543 - val_accuracy: 0.7053 - val_loss: 0.5949\n",
      "Epoch 4/10\n",
      "\u001b[1m1579/1579\u001b[0m \u001b[32m━━━━━━━━━━━━━━━━━━━━\u001b[0m\u001b[37m\u001b[0m \u001b[1m6s\u001b[0m 4ms/step - accuracy: 0.7842 - loss: 0.4481 - val_accuracy: 0.6921 - val_loss: 0.6195\n",
      "Epoch 5/10\n",
      "\u001b[1m1579/1579\u001b[0m \u001b[32m━━━━━━━━━━━━━━━━━━━━\u001b[0m\u001b[37m\u001b[0m \u001b[1m6s\u001b[0m 4ms/step - accuracy: 0.7856 - loss: 0.4461 - val_accuracy: 0.6833 - val_loss: 0.6170\n",
      "Epoch 6/10\n",
      "\u001b[1m1579/1579\u001b[0m \u001b[32m━━━━━━━━━━━━━━━━━━━━\u001b[0m\u001b[37m\u001b[0m \u001b[1m4s\u001b[0m 2ms/step - accuracy: 0.7877 - loss: 0.4422 - val_accuracy: 0.6734 - val_loss: 0.6424\n",
      "Epoch 7/10\n",
      "\u001b[1m1579/1579\u001b[0m \u001b[32m━━━━━━━━━━━━━━━━━━━━\u001b[0m\u001b[37m\u001b[0m \u001b[1m4s\u001b[0m 3ms/step - accuracy: 0.7891 - loss: 0.4402 - val_accuracy: 0.6924 - val_loss: 0.6132\n",
      "Epoch 8/10\n",
      "\u001b[1m1579/1579\u001b[0m \u001b[32m━━━━━━━━━━━━━━━━━━━━\u001b[0m\u001b[37m\u001b[0m \u001b[1m6s\u001b[0m 4ms/step - accuracy: 0.7878 - loss: 0.4418 - val_accuracy: 0.6925 - val_loss: 0.6233\n",
      "Epoch 9/10\n",
      "\u001b[1m1579/1579\u001b[0m \u001b[32m━━━━━━━━━━━━━━━━━━━━\u001b[0m\u001b[37m\u001b[0m \u001b[1m6s\u001b[0m 4ms/step - accuracy: 0.7909 - loss: 0.4377 - val_accuracy: 0.7081 - val_loss: 0.5981\n",
      "Epoch 10/10\n",
      "\u001b[1m1579/1579\u001b[0m \u001b[32m━━━━━━━━━━━━━━━━━━━━\u001b[0m\u001b[37m\u001b[0m \u001b[1m6s\u001b[0m 4ms/step - accuracy: 0.7912 - loss: 0.4361 - val_accuracy: 0.7142 - val_loss: 0.5942\n",
      "\u001b[1m2141/2141\u001b[0m \u001b[32m━━━━━━━━━━━━━━━━━━━━\u001b[0m\u001b[37m\u001b[0m \u001b[1m4s\u001b[0m 2ms/step\n",
      "\n",
      "=== MLP (SMOTE) ===\n",
      "              precision    recall  f1-score   support\n",
      "\n",
      "           0       0.95      0.95      0.95     63137\n",
      "           1       0.42      0.40      0.41      5367\n",
      "\n",
      "    accuracy                           0.91     68504\n",
      "   macro avg       0.68      0.68      0.68     68504\n",
      "weighted avg       0.91      0.91      0.91     68504\n",
      "\n",
      "ROC AUC: 0.8503\n",
      "PR AUC: 0.4335\n"
     ]
    }
   ],
   "source": [
    "# Resampling\n",
    "sm = SMOTE(random_state=42)\n",
    "X_train_res, y_train_res = sm.fit_resample(X_train_scaled, y_train)\n",
    "\n",
    "model_dl_smote = create_model(input_dim)\n",
    "\n",
    "history_smote = model_dl_smote.fit(\n",
    "    X_train_res, y_train_res,\n",
    "    validation_split=0.2, # Validation is 0.2\n",
    "    epochs=10,\n",
    "    batch_size=256,\n",
    "    verbose=1\n",
    ")\n",
    "\n",
    "# Prediction \n",
    "y_prob_dl_smote = model_dl_smote.predict(X_test_scaled).ravel()\n",
    "y_pred_dl_smote = (y_prob_dl_smote >= 0.7).astype(int)\n",
    "\n",
    "# Evaluation\n",
    "print(\"\\n=== MLP (SMOTE) ===\")\n",
    "print(classification_report(y_test, y_pred_dl_smote))\n",
    "\n",
    "roc_dl_smote = roc_auc_score(y_test, y_prob_dl_smote)\n",
    "pr_dl_smote = average_precision_score(y_test, y_prob_dl_smote)\n",
    "\n",
    "print(f\"ROC AUC: {roc_dl_smote:.4f}\")\n",
    "print(f\"PR AUC: {pr_dl_smote:.4f}\")"
   ]
  },
  {
   "cell_type": "markdown",
   "metadata": {},
   "source": [
    "MLP model trained with SMOTE, the recall for class 1 was very low. The model struggled to detect the minority class."
   ]
  },
  {
   "cell_type": "markdown",
   "metadata": {},
   "source": [
    "ADASYN and BorderlineSMOTE were then tested"
   ]
  },
  {
   "cell_type": "markdown",
   "metadata": {},
   "source": [
    "6.1-) ADASYN and BorderlineSMOTE"
   ]
  },
  {
   "cell_type": "code",
   "execution_count": 25,
   "metadata": {},
   "outputs": [
    {
     "name": "stdout",
     "output_type": "stream",
     "text": [
      "Epoch 1/10\n"
     ]
    },
    {
     "name": "stderr",
     "output_type": "stream",
     "text": [
      "c:\\Users\\Olgu\\AppData\\Local\\Programs\\Python\\Python312\\Lib\\site-packages\\keras\\src\\layers\\core\\dense.py:87: UserWarning: Do not pass an `input_shape`/`input_dim` argument to a layer. When using Sequential models, prefer using an `Input(shape)` object as the first layer in the model instead.\n",
      "  super().__init__(activity_regularizer=activity_regularizer, **kwargs)\n"
     ]
    },
    {
     "name": "stdout",
     "output_type": "stream",
     "text": [
      "\u001b[1m1569/1569\u001b[0m \u001b[32m━━━━━━━━━━━━━━━━━━━━\u001b[0m\u001b[37m\u001b[0m \u001b[1m8s\u001b[0m 4ms/step - accuracy: 0.7276 - loss: 0.5314 - val_accuracy: 0.6663 - val_loss: 0.6852\n",
      "Epoch 2/10\n",
      "\u001b[1m1569/1569\u001b[0m \u001b[32m━━━━━━━━━━━━━━━━━━━━\u001b[0m\u001b[37m\u001b[0m \u001b[1m5s\u001b[0m 3ms/step - accuracy: 0.7530 - loss: 0.4953 - val_accuracy: 0.6699 - val_loss: 0.6801\n",
      "Epoch 3/10\n",
      "\u001b[1m1569/1569\u001b[0m \u001b[32m━━━━━━━━━━━━━━━━━━━━\u001b[0m\u001b[37m\u001b[0m \u001b[1m4s\u001b[0m 3ms/step - accuracy: 0.7590 - loss: 0.4867 - val_accuracy: 0.6538 - val_loss: 0.6881\n",
      "Epoch 4/10\n",
      "\u001b[1m1569/1569\u001b[0m \u001b[32m━━━━━━━━━━━━━━━━━━━━\u001b[0m\u001b[37m\u001b[0m \u001b[1m3s\u001b[0m 2ms/step - accuracy: 0.7623 - loss: 0.4816 - val_accuracy: 0.6612 - val_loss: 0.6756\n",
      "Epoch 5/10\n",
      "\u001b[1m1569/1569\u001b[0m \u001b[32m━━━━━━━━━━━━━━━━━━━━\u001b[0m\u001b[37m\u001b[0m \u001b[1m5s\u001b[0m 3ms/step - accuracy: 0.7657 - loss: 0.4769 - val_accuracy: 0.6530 - val_loss: 0.6796\n",
      "Epoch 6/10\n",
      "\u001b[1m1569/1569\u001b[0m \u001b[32m━━━━━━━━━━━━━━━━━━━━\u001b[0m\u001b[37m\u001b[0m \u001b[1m6s\u001b[0m 4ms/step - accuracy: 0.7685 - loss: 0.4745 - val_accuracy: 0.6414 - val_loss: 0.6915\n",
      "Epoch 7/10\n",
      "\u001b[1m1569/1569\u001b[0m \u001b[32m━━━━━━━━━━━━━━━━━━━━\u001b[0m\u001b[37m\u001b[0m \u001b[1m6s\u001b[0m 4ms/step - accuracy: 0.7688 - loss: 0.4720 - val_accuracy: 0.6945 - val_loss: 0.6250\n",
      "Epoch 8/10\n",
      "\u001b[1m1569/1569\u001b[0m \u001b[32m━━━━━━━━━━━━━━━━━━━━\u001b[0m\u001b[37m\u001b[0m \u001b[1m6s\u001b[0m 4ms/step - accuracy: 0.7697 - loss: 0.4688 - val_accuracy: 0.6760 - val_loss: 0.6338\n",
      "Epoch 9/10\n",
      "\u001b[1m1569/1569\u001b[0m \u001b[32m━━━━━━━━━━━━━━━━━━━━\u001b[0m\u001b[37m\u001b[0m \u001b[1m6s\u001b[0m 4ms/step - accuracy: 0.7714 - loss: 0.4675 - val_accuracy: 0.6725 - val_loss: 0.6447\n",
      "Epoch 10/10\n",
      "\u001b[1m1569/1569\u001b[0m \u001b[32m━━━━━━━━━━━━━━━━━━━━\u001b[0m\u001b[37m\u001b[0m \u001b[1m7s\u001b[0m 4ms/step - accuracy: 0.7710 - loss: 0.4682 - val_accuracy: 0.6651 - val_loss: 0.6596\n",
      "\u001b[1m2141/2141\u001b[0m \u001b[32m━━━━━━━━━━━━━━━━━━━━\u001b[0m\u001b[37m\u001b[0m \u001b[1m4s\u001b[0m 2ms/step\n",
      "\n",
      "=== MLP (ADASYN) ===\n",
      "              precision    recall  f1-score   support\n",
      "\n",
      "           0       0.98      0.69      0.81     63137\n",
      "           1       0.19      0.84      0.31      5367\n",
      "\n",
      "    accuracy                           0.70     68504\n",
      "   macro avg       0.58      0.76      0.56     68504\n",
      "weighted avg       0.92      0.70      0.77     68504\n",
      "\n",
      "ROC AUC: 0.8451\n",
      "PR AUC: 0.4245\n",
      "Epoch 1/10\n"
     ]
    },
    {
     "name": "stderr",
     "output_type": "stream",
     "text": [
      "c:\\Users\\Olgu\\AppData\\Local\\Programs\\Python\\Python312\\Lib\\site-packages\\keras\\src\\layers\\core\\dense.py:87: UserWarning: Do not pass an `input_shape`/`input_dim` argument to a layer. When using Sequential models, prefer using an `Input(shape)` object as the first layer in the model instead.\n",
      "  super().__init__(activity_regularizer=activity_regularizer, **kwargs)\n"
     ]
    },
    {
     "name": "stdout",
     "output_type": "stream",
     "text": [
      "\u001b[1m1579/1579\u001b[0m \u001b[32m━━━━━━━━━━━━━━━━━━━━\u001b[0m\u001b[37m\u001b[0m \u001b[1m7s\u001b[0m 3ms/step - accuracy: 0.7842 - loss: 0.4548 - val_accuracy: 0.7900 - val_loss: 0.5360\n",
      "Epoch 2/10\n",
      "\u001b[1m1579/1579\u001b[0m \u001b[32m━━━━━━━━━━━━━━━━━━━━\u001b[0m\u001b[37m\u001b[0m \u001b[1m5s\u001b[0m 3ms/step - accuracy: 0.8084 - loss: 0.4110 - val_accuracy: 0.7803 - val_loss: 0.5241\n",
      "Epoch 3/10\n",
      "\u001b[1m1579/1579\u001b[0m \u001b[32m━━━━━━━━━━━━━━━━━━━━\u001b[0m\u001b[37m\u001b[0m \u001b[1m5s\u001b[0m 3ms/step - accuracy: 0.8129 - loss: 0.4024 - val_accuracy: 0.7967 - val_loss: 0.4892\n",
      "Epoch 4/10\n",
      "\u001b[1m1579/1579\u001b[0m \u001b[32m━━━━━━━━━━━━━━━━━━━━\u001b[0m\u001b[37m\u001b[0m \u001b[1m5s\u001b[0m 3ms/step - accuracy: 0.8166 - loss: 0.3960 - val_accuracy: 0.7982 - val_loss: 0.4997\n",
      "Epoch 5/10\n",
      "\u001b[1m1579/1579\u001b[0m \u001b[32m━━━━━━━━━━━━━━━━━━━━\u001b[0m\u001b[37m\u001b[0m \u001b[1m6s\u001b[0m 3ms/step - accuracy: 0.8180 - loss: 0.3928 - val_accuracy: 0.7884 - val_loss: 0.5031\n",
      "Epoch 6/10\n",
      "\u001b[1m1579/1579\u001b[0m \u001b[32m━━━━━━━━━━━━━━━━━━━━\u001b[0m\u001b[37m\u001b[0m \u001b[1m5s\u001b[0m 3ms/step - accuracy: 0.8194 - loss: 0.3907 - val_accuracy: 0.7965 - val_loss: 0.4823\n",
      "Epoch 7/10\n",
      "\u001b[1m1579/1579\u001b[0m \u001b[32m━━━━━━━━━━━━━━━━━━━━\u001b[0m\u001b[37m\u001b[0m \u001b[1m1s\u001b[0m 906us/step - accuracy: 0.8206 - loss: 0.3902 - val_accuracy: 0.8089 - val_loss: 0.4637\n",
      "Epoch 8/10\n",
      "\u001b[1m1579/1579\u001b[0m \u001b[32m━━━━━━━━━━━━━━━━━━━━\u001b[0m\u001b[37m\u001b[0m \u001b[1m1s\u001b[0m 896us/step - accuracy: 0.8217 - loss: 0.3869 - val_accuracy: 0.8069 - val_loss: 0.4743\n",
      "Epoch 9/10\n",
      "\u001b[1m1579/1579\u001b[0m \u001b[32m━━━━━━━━━━━━━━━━━━━━\u001b[0m\u001b[37m\u001b[0m \u001b[1m1s\u001b[0m 853us/step - accuracy: 0.8228 - loss: 0.3843 - val_accuracy: 0.8000 - val_loss: 0.4765\n",
      "Epoch 10/10\n",
      "\u001b[1m1579/1579\u001b[0m \u001b[32m━━━━━━━━━━━━━━━━━━━━\u001b[0m\u001b[37m\u001b[0m \u001b[1m1s\u001b[0m 856us/step - accuracy: 0.8229 - loss: 0.3850 - val_accuracy: 0.8001 - val_loss: 0.4703\n",
      "\u001b[1m2141/2141\u001b[0m \u001b[32m━━━━━━━━━━━━━━━━━━━━\u001b[0m\u001b[37m\u001b[0m \u001b[1m1s\u001b[0m 328us/step\n",
      "\n",
      "=== MLP (BorderlineSMOTE) ===\n",
      "              precision    recall  f1-score   support\n",
      "\n",
      "           0       0.98      0.69      0.81     63137\n",
      "           1       0.19      0.84      0.31      5367\n",
      "\n",
      "    accuracy                           0.70     68504\n",
      "   macro avg       0.58      0.76      0.56     68504\n",
      "weighted avg       0.92      0.70      0.77     68504\n",
      "\n",
      "ROC AUC: 0.8508\n",
      "PR AUC: 0.4328\n"
     ]
    }
   ],
   "source": [
    "from imblearn.over_sampling import ADASYN, BorderlineSMOTE\n",
    "\n",
    "# ADASYN, resampling \n",
    "adasyn = ADASYN(random_state=42)\n",
    "X_train_adasyn, y_train_adasyn = adasyn.fit_resample(X_train_scaled, y_train)\n",
    "\n",
    "# BorderlineSMOTE, resampling\n",
    "borderline_smote = BorderlineSMOTE(random_state=42, kind='borderline-1')\n",
    "X_train_bsmote, y_train_bsmote = borderline_smote.fit_resample(X_train_scaled, y_train)\n",
    "\n",
    "def train_evaluate_model(X_train_resampled, y_train_resampled, method_name):\n",
    "    model = create_model(input_dim)\n",
    "\n",
    "    history = model.fit(\n",
    "        X_train_resampled, y_train_resampled,\n",
    "        validation_split=0.2, \n",
    "        epochs=10,\n",
    "        batch_size=256,\n",
    "        verbose=1\n",
    "    )\n",
    "\n",
    "    # Prediction \n",
    "    y_prob = model.predict(X_test_scaled).ravel()\n",
    "    y_pred_dl_smote = (y_prob_dl_smote >= 0.3).astype(int)\n",
    "\n",
    "    # Evaluation\n",
    "    print(f\"\\n=== MLP ({method_name}) ===\")\n",
    "    print(classification_report(y_test, y_pred_dl_smote))\n",
    "\n",
    "    roc_auc = roc_auc_score(y_test, y_prob)\n",
    "    pr_auc = average_precision_score(y_test, y_prob)\n",
    "\n",
    "    print(f\"ROC AUC: {roc_auc:.4f}\")\n",
    "    print(f\"PR AUC: {pr_auc:.4f}\")\n",
    "\n",
    "# ADASYN results\n",
    "train_evaluate_model(X_train_adasyn, y_train_adasyn, \"ADASYN\")\n",
    "\n",
    "# BorderlineSMOTE results \n",
    "train_evaluate_model(X_train_bsmote, y_train_bsmote, \"BorderlineSMOTE\")"
   ]
  },
  {
   "cell_type": "markdown",
   "metadata": {},
   "source": [
    "The results were slightly better, but the recall for class 1 remained low."
   ]
  },
  {
   "cell_type": "markdown",
   "metadata": {},
   "source": [
    "#### Results Comparison & Conclusion"
   ]
  },
  {
   "cell_type": "code",
   "execution_count": 26,
   "metadata": {},
   "outputs": [
    {
     "name": "stdout",
     "output_type": "stream",
     "text": [
      "\n",
      "=== Model Comparison ===\n",
      "                     Model  Precision    Recall        F1   ROC AUC    PR AUC\n",
      "0  RandomForest (No SMOTE)   0.746548  0.171232  0.278569  0.841190  0.423528\n",
      "1     RandomForest (SMOTE)   0.393516  0.294019  0.336568  0.827081  0.349015\n",
      "2       XGBoost (No SMOTE)   0.712938  0.197131  0.308860  0.864685  0.456902\n",
      "3          XGBoost (SMOTE)   0.369686  0.358114  0.363808  0.828289  0.371016\n",
      "4           MLP (No SMOTE)   0.830435  0.142351  0.243041  0.851057  0.437908\n",
      "5              MLP (SMOTE)   0.417682  0.402273  0.409833  0.850258  0.433473\n"
     ]
    }
   ],
   "source": [
    "results = []\n",
    "\n",
    "# Baseline RF\n",
    "results.append({\n",
    "    \"Model\": \"RandomForest (No SMOTE)\",\n",
    "    \"Precision\": classification_report(y_test, y_pred_baseline, output_dict=True)[\"1\"][\"precision\"],\n",
    "    \"Recall\": classification_report(y_test, y_pred_baseline, output_dict=True)[\"1\"][\"recall\"],\n",
    "    \"F1\": classification_report(y_test, y_pred_baseline, output_dict=True)[\"1\"][\"f1-score\"],\n",
    "    \"ROC AUC\": roc_baseline,\n",
    "    \"PR AUC\": pr_baseline\n",
    "})\n",
    "\n",
    "# RF with SMOTE\n",
    "results.append({\n",
    "    \"Model\": \"RandomForest (SMOTE)\",\n",
    "    \"Precision\": classification_report(y_test, y_pred_smote, output_dict=True)[\"1\"][\"precision\"],\n",
    "    \"Recall\": classification_report(y_test, y_pred_smote, output_dict=True)[\"1\"][\"recall\"],\n",
    "    \"F1\": classification_report(y_test, y_pred_smote, output_dict=True)[\"1\"][\"f1-score\"],\n",
    "    \"ROC AUC\": roc_smote,\n",
    "    \"PR AUC\": pr_smote\n",
    "})\n",
    "\n",
    "# XGBoost no SMOTE\n",
    "results.append({\n",
    "    \"Model\": \"XGBoost (No SMOTE)\",\n",
    "    \"Precision\": classification_report(y_test, y_pred_xgb_no_smote, output_dict=True)[\"1\"][\"precision\"],\n",
    "    \"Recall\": classification_report(y_test, y_pred_xgb_no_smote, output_dict=True)[\"1\"][\"recall\"],\n",
    "    \"F1\": classification_report(y_test, y_pred_xgb_no_smote, output_dict=True)[\"1\"][\"f1-score\"],\n",
    "    \"ROC AUC\": roc_xgb_no_smote,\n",
    "    \"PR AUC\": pr_xgb_no_smote\n",
    "})\n",
    "\n",
    "# XGBoost with SMOTE\n",
    "results.append({\n",
    "    \"Model\": \"XGBoost (SMOTE)\",\n",
    "    \"Precision\": classification_report(y_test, y_pred_xgb_smote, output_dict=True)[\"1\"][\"precision\"],\n",
    "    \"Recall\": classification_report(y_test, y_pred_xgb_smote, output_dict=True)[\"1\"][\"recall\"],\n",
    "    \"F1\": classification_report(y_test, y_pred_xgb_smote, output_dict=True)[\"1\"][\"f1-score\"],\n",
    "    \"ROC AUC\": roc_xgb_smote,\n",
    "    \"PR AUC\": pr_xgb_smote\n",
    "})\n",
    "\n",
    "# MLP without SMOTE\n",
    "results.append({\n",
    "    \"Model\": \"MLP (No SMOTE)\",\n",
    "    \"Precision\": classification_report(y_test, y_pred_dl, output_dict=True)[\"1\"][\"precision\"],\n",
    "    \"Recall\": classification_report(y_test, y_pred_dl, output_dict=True)[\"1\"][\"recall\"],\n",
    "    \"F1\": classification_report(y_test, y_pred_dl, output_dict=True)[\"1\"][\"f1-score\"],\n",
    "    \"ROC AUC\": roc_dl,\n",
    "    \"PR AUC\": pr_dl\n",
    "})\n",
    "\n",
    "# MLP with SMOTE\n",
    "results.append({\n",
    "    \"Model\": \"MLP (SMOTE)\",\n",
    "    \"Precision\": classification_report(y_test, y_pred_dl_smote, output_dict=True)[\"1\"][\"precision\"],\n",
    "    \"Recall\": classification_report(y_test, y_pred_dl_smote, output_dict=True)[\"1\"][\"recall\"],\n",
    "    \"F1\": classification_report(y_test, y_pred_dl_smote, output_dict=True)[\"1\"][\"f1-score\"],\n",
    "    \"ROC AUC\": roc_dl_smote,\n",
    "    \"PR AUC\": pr_dl_smote\n",
    "})\n",
    "\n",
    "comparison_df = pd.DataFrame(results)\n",
    "print(\"\\n=== Model Comparison ===\")\n",
    "print(comparison_df)"
   ]
  },
  {
   "cell_type": "markdown",
   "metadata": {},
   "source": [
    "Final Visualization"
   ]
  },
  {
   "cell_type": "code",
   "execution_count": 27,
   "metadata": {},
   "outputs": [],
   "source": [
    "from sklearn.metrics import (\n",
    "    classification_report,\n",
    "    roc_auc_score,\n",
    "    average_precision_score,\n",
    "    roc_curve,\n",
    "    precision_recall_curve\n",
    ")\n",
    "\n",
    "models_info = [\n",
    "    (\"RandomForest (No SMOTE)\", y_pred_baseline,  y_prob_baseline),\n",
    "    (\"RandomForest (SMOTE)\",    y_pred_smote,     y_prob_smote),\n",
    "    (\"XGBoost (No SMOTE)\",      y_pred_xgb_no_smote,  y_prob_xgb_no_smote),\n",
    "    (\"XGBoost (SMOTE)\",         y_pred_xgb_smote,     y_prob_xgb_smote),\n",
    "    (\"MLP (No SMOTE)\", y_pred_dl,         y_prob_dl),\n",
    "    (\"MLP (SMOTE)\",    y_pred_dl_smote,  y_prob_dl_smote),\n",
    "]\n",
    "\n",
    "results = []"
   ]
  },
  {
   "cell_type": "code",
   "execution_count": 28,
   "metadata": {},
   "outputs": [
    {
     "data": {
      "image/png": "[encoded data removed]",
      "text/plain": [
       "<Figure size 1000x600 with 1 Axes>"
      ]
     },
     "metadata": {},
     "output_type": "display_data"
    }
   ],
   "source": [
    "# ROC Curve Comparison\n",
    "plt.figure(figsize=(10, 6))\n",
    "\n",
    "for model_name, y_pred, y_prob in models_info:\n",
    "    precision_val = classification_report(y_test, y_pred, output_dict=True)[\"1\"][\"precision\"]\n",
    "    recall_val    = classification_report(y_test, y_pred, output_dict=True)[\"1\"][\"recall\"]\n",
    "    f1_val        = classification_report(y_test, y_pred, output_dict=True)[\"1\"][\"f1-score\"]\n",
    "    roc_val       = roc_auc_score(y_test, y_prob)\n",
    "    pr_val        = average_precision_score(y_test, y_prob)\n",
    "\n",
    "    results.append({\n",
    "        \"Model\": model_name,\n",
    "        \"Precision\": precision_val,\n",
    "        \"Recall\": recall_val,\n",
    "        \"F1\": f1_val,\n",
    "        \"ROC AUC\": roc_val,\n",
    "        \"PR AUC\": pr_val\n",
    "    })\n",
    "\n",
    "    fpr, tpr, _ = roc_curve(y_test, y_prob)\n",
    "    plt.plot(fpr, tpr, label=model_name)\n",
    "\n",
    "plt.plot([0, 1], [0, 1], 'k--', label='Random Guess')\n",
    "plt.xlabel(\"False Positive Rate\")\n",
    "plt.ylabel(\"True Positive Rate\")\n",
    "plt.title(\"ROC Curve Comparison\")\n",
    "plt.legend()\n",
    "plt.show()"
   ]
  },
  {
   "cell_type": "code",
   "execution_count": 29,
   "metadata": {},
   "outputs": [
    {
     "data": {
      "image/png": "[encoded data removed]",
      "text/plain": [
       "<Figure size 1000x600 with 1 Axes>"
      ]
     },
     "metadata": {},
     "output_type": "display_data"
    }
   ],
   "source": [
    "# Precision-Recall Curve Comparison\n",
    "plt.figure(figsize=(10, 6))\n",
    "\n",
    "for model_name, y_pred, y_prob in models_info:\n",
    "    precision_vals, recall_vals, _ = precision_recall_curve(y_test, y_prob)\n",
    "    plt.plot(recall_vals, precision_vals, label=model_name)\n",
    "\n",
    "plt.xlabel(\"Recall\")\n",
    "plt.ylabel(\"Precision\")\n",
    "plt.title(\"Precision-Recall Curve Comparison\")\n",
    "plt.legend()\n",
    "plt.show()"
   ]
  },
  {
   "cell_type": "code",
   "execution_count": null,
   "metadata": {},
   "outputs": [],
   "source": []
  }
 ],
 "metadata": {
  "kernelspec": {
   "display_name": "Python 3",
   "language": "python",
   "name": "python3"
  },
  "language_info": {
   "codemirror_mode": {
    "name": "ipython",
    "version": 3
   },
   "file_extension": ".py",
   "mimetype": "text/x-python",
   "name": "python",
   "nbconvert_exporter": "python",
   "pygments_lexer": "ipython3",
   "version": "3.12.4"
  }
 },
 "nbformat": 4,
 "nbformat_minor": 2
}
